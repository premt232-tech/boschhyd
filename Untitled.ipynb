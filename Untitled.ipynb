{
 "cells": [
  {
   "cell_type": "code",
   "execution_count": 1,
   "id": "30bfaf87-8289-4288-b491-09a83d21a019",
   "metadata": {},
   "outputs": [
    {
     "data": {
      "text/plain": [
       "' dufjf \\njfijvif \\nkfjf'"
      ]
     },
     "execution_count": 1,
     "metadata": {},
     "output_type": "execute_result"
    }
   ],
   "source": [
    "slt = ''' dufjf \n",
    "jfijvif \n",
    "kfjf'''\n"
   ]
  },
  {
   "cell_type": "code",
   "execution_count": 2,
   "id": "33873e81-b86b-49b2-99c0-4d3eb5f79037",
   "metadata": {},
   "outputs": [
    {
     "name": "stdout",
     "output_type": "stream",
     "text": [
      " dufjf \n",
      "jfijvif \n",
      "kfjf\n"
     ]
    }
   ],
   "source": [
    "print(slt)"
   ]
  },
  {
   "cell_type": "code",
   "execution_count": 3,
   "id": "7acd4866-5e32-4450-a121-b54fcfce79d0",
   "metadata": {},
   "outputs": [],
   "source": [
    "ft= slt.replace(\"dufjf\",\"heloo\")"
   ]
  },
  {
   "cell_type": "code",
   "execution_count": 4,
   "id": "5596fcdb-6425-4998-b6ca-017291a8ed78",
   "metadata": {},
   "outputs": [
    {
     "name": "stdout",
     "output_type": "stream",
     "text": [
      " heloo \n",
      "jfijvif \n",
      "kfjf\n"
     ]
    }
   ],
   "source": [
    "print(ft)"
   ]
  },
  {
   "cell_type": "code",
   "execution_count": 11,
   "id": "436b535f-eb61-4ccc-a677-4ecc0c6ce69c",
   "metadata": {},
   "outputs": [
    {
     "name": "stdout",
     "output_type": "stream",
     "text": [
      "f \n",
      "kfjf\n"
     ]
    }
   ],
   "source": [
    "ft = slt[-7:]\n",
    "print(ft)"
   ]
  },
  {
   "cell_type": "code",
   "execution_count": null,
   "id": "181cb878-70c3-4639-b359-f558e6b6d96d",
   "metadata": {},
   "outputs": [],
   "source": []
  }
 ],
 "metadata": {
  "kernelspec": {
   "display_name": "Python 3 (ipykernel)",
   "language": "python",
   "name": "python3"
  },
  "language_info": {
   "codemirror_mode": {
    "name": "ipython",
    "version": 3
   },
   "file_extension": ".py",
   "mimetype": "text/x-python",
   "name": "python",
   "nbconvert_exporter": "python",
   "pygments_lexer": "ipython3",
   "version": "3.12.3"
  }
 },
 "nbformat": 4,
 "nbformat_minor": 5
}
